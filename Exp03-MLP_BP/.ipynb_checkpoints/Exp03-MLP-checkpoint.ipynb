{
 "cells": [
  {
   "cell_type": "markdown",
   "metadata": {
    "_cell_guid": "b1076dfc-b9ad-4769-8c92-a6c4dae69d19",
    "_uuid": "8f2839f25d086af736a60e9eeb907d3b93b6e0e5"
   },
   "source": [
    "## Experiment No. 3 - Implement and test MLP trained with back-propagation algorithm"
   ]
  },
  {
   "cell_type": "markdown",
   "metadata": {
    "_cell_guid": "79c7e3d0-c299-4dcb-8224-4455121ee9b0",
    "_uuid": "d629ff2d2480ee46fbb7e2d37f6b5fab8052498a",
    "collapsed": true
   },
   "source": [
    "Source 1(a) - https://pythonmachinelearning.pro/complete-guide-to-deep-neural-networks-part-1/\n",
    "\n",
    "Source 1(b) - https://pythonmachinelearning.pro/complete-guide-to-deep-neural-networks-part-2/\n",
    "\n",
    "Source 2 - https://machinelearningmastery.com/implement-backpropagation-algorithm-scratch-python/\n",
    "\n",
    "Source 3 - https://medium.com/@tiago.tmleite/neural-networks-multilayer-perceptron-and-the-backpropagation-algorithm-a5cd5b904fde\n",
    "\n",
    "Source 4 - https://www.kaggle.com/ancientaxe/simple-neural-network-from-scratch-in-python\n",
    "\n",
    "\n",
    "Multi-Layer Perceptron with Back-Propagation Algorithm\n",
    "\n"
   ]
  },
  {
   "cell_type": "markdown",
   "metadata": {},
   "source": [
    "- **Data** - \n",
    "- **Task** - \n",
    "- **Mathematical Model** - \n",
    "- **Loss Function** - \n",
    "- **Learning Algorithm** - \n",
    "- **Model Evaluation** - "
   ]
  }
 ],
 "metadata": {
  "kernelspec": {
   "display_name": "Python 3",
   "language": "python",
   "name": "python3"
  },
  "language_info": {
   "codemirror_mode": {
    "name": "ipython",
    "version": 3
   },
   "file_extension": ".py",
   "mimetype": "text/x-python",
   "name": "python",
   "nbconvert_exporter": "python",
   "pygments_lexer": "ipython3",
   "version": "3.7.4"
  }
 },
 "nbformat": 4,
 "nbformat_minor": 4
}
