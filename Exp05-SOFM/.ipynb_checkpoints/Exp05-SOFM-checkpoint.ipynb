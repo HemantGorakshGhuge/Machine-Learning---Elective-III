{
 "cells": [
  {
   "cell_type": "markdown",
   "metadata": {},
   "source": [
    "## Experiment No. 5 - Implement SOFM for character recognition."
   ]
  },
  {
   "cell_type": "markdown",
   "metadata": {},
   "source": [
    "Source 1 - http://mnemstudio.org/neural-networks-som3.htm\n",
    "\n",
    "Source 2 - https://www.kaggle.com/thebrownviking20/clustering-images-w-neural-network-bayesian-opt\n",
    "\n",
    "Source 3 - https://www.codeproject.com/Articles/16273/Self-Organizing-Feature-Maps-Kohonen-maps\n",
    "\n",
    "Source 4 - https://github.com/Kursula/Kohonen_SOM/blob/master/som.py\n",
    "\n",
    "Source 5 - https://towardsdatascience.com/kohonen-self-organizing-maps-a29040d688da\n",
    "\n",
    "Source 6 - https://towardsdatascience.com/self-organizing-map-layer-in-tensroflow-with-interactive-code-manual-back-prop-with-tf-580e0b60a1cc\n",
    "\n",
    "Source 7 - https://wonikjang.github.io/deeplearning_unsupervised_som/2017/06/30/som.html\n",
    "\n",
    "Self-Organizing Feature Map"
   ]
  },
  {
   "cell_type": "markdown",
   "metadata": {},
   "source": [
    "- **Data** - \n",
    "- **Task** - \n",
    "- **Mathematical Model** - \n",
    "- **Loss Function** - \n",
    "- **Learning Algorithm** - \n",
    "- **Model Evaluation** - "
   ]
  }
 ],
 "metadata": {
  "kernelspec": {
   "display_name": "Python 3",
   "language": "python",
   "name": "python3"
  },
  "language_info": {
   "codemirror_mode": {
    "name": "ipython",
    "version": 3
   },
   "file_extension": ".py",
   "mimetype": "text/x-python",
   "name": "python",
   "nbconvert_exporter": "python",
   "pygments_lexer": "ipython3",
   "version": "3.7.7"
  }
 },
 "nbformat": 4,
 "nbformat_minor": 4
}
