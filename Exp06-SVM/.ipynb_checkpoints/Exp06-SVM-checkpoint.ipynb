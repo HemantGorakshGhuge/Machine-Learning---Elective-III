{
 "cells": [
  {
   "cell_type": "markdown",
   "metadata": {
    "_cell_guid": "79c7e3d0-c299-4dcb-8224-4455121ee9b0",
    "_uuid": "d629ff2d2480ee46fbb7e2d37f6b5fab8052498a",
    "collapsed": true
   },
   "source": [
    "## Experiment No. 6 - Implement SVM classifier for classification of data into two classes."
   ]
  },
  {
   "cell_type": "markdown",
   "metadata": {},
   "source": [
    "### Support Vector Machine"
   ]
  },
  {
   "cell_type": "markdown",
   "metadata": {},
   "source": [
    "Support Vector Machine (SVM) is a supervised machine learning algorithm capable of performing classification, regression and even outlier detection. The linear SVM classifier works by drawing a straight line between two classes. All the data points that fall on one side of the line will be labeled as one class and all the points that fall on the other side will be labeled as the second.\n",
    "\n",
    "Sounds simple enough, but there’s an infinite amount of lines to choose from. How do we know which line will do the best job of classifying the data? This is where the LSVM algorithm comes in to play. The LSVM algorithm will select a line that not only separates the two classes but stays as far away from the closest samples as possible. In fact, the “support vector” in “support vector machine” refers to two position vectors drawn from the origin to the points which dictate the decision boundary."
   ]
  },
  {
   "cell_type": "markdown",
   "metadata": {},
   "source": [
    "- **Data** - x, y points\n",
    "- **Task** - Linear Regression\n",
    "- **Mathematical Model** - SVM\n",
    "- **Loss Function**\n",
    "- **Learning Algorithm** - Lagrangian\n",
    "- **Model Evaluation** - "
   ]
  },
  {
   "cell_type": "markdown",
   "metadata": {},
   "source": [
    "## Algorithm\n",
    "1. Import Library\n",
    "2. SVM model \n",
    "3. Load the data\n",
    "4. Visualize the data\n",
    "5. Train Test Split\n",
    "6. Training the model\n",
    "7. Visualize the result\n",
    "8. Prediction\n",
    "9. Using built-in SVM\n",
    "10. Custom SVM vs built-in SVM"
   ]
  },
  {
   "cell_type": "markdown",
   "metadata": {},
   "source": [
    "### 1. Import Library"
   ]
  },
  {
   "cell_type": "code",
   "execution_count": 1,
   "metadata": {},
   "outputs": [
    {
     "name": "stderr",
     "output_type": "stream",
     "text": [
      "c:\\users\\hemant ghuge\\anaconda3\\envs\\tensorflow2\\lib\\site-packages\\sklearn\\utils\\deprecation.py:144: FutureWarning: The sklearn.datasets.samples_generator module is  deprecated in version 0.22 and will be removed in version 0.24. The corresponding classes / functions should instead be imported from sklearn.datasets. Anything that cannot be imported from sklearn.datasets is now part of the private API.\n",
      "  warnings.warn(message, FutureWarning)\n",
      "\n",
      "Bad key \"text.kerning_factor\" on line 4 in\n",
      "c:\\users\\hemant ghuge\\anaconda3\\envs\\tensorflow2\\lib\\site-packages\\matplotlib\\mpl-data\\stylelib\\_classic_test_patch.mplstyle.\n",
      "You probably need to get an updated matplotlibrc file from\n",
      "https://github.com/matplotlib/matplotlib/blob/v3.1.3/matplotlibrc.template\n",
      "or from the matplotlib source distribution\n"
     ]
    }
   ],
   "source": [
    "import numpy as np\n",
    "import cvxopt\n",
    "from sklearn.datasets.samples_generator import make_blobs\n",
    "from sklearn.model_selection import train_test_split\n",
    "from matplotlib import pyplot as plt\n",
    "from sklearn.svm import LinearSVC\n",
    "from sklearn.metrics import confusion_matrix\n",
    "from IPython.display import Image"
   ]
  },
  {
   "cell_type": "markdown",
   "metadata": {},
   "source": [
    "### 2. SVM model "
   ]
  },
  {
   "cell_type": "code",
   "execution_count": 2,
   "metadata": {},
   "outputs": [],
   "source": [
    "class SVM:\n",
    "    def fit(self, X, y):\n",
    "        n_samples, n_features = X.shape\n",
    "# P = X^T X\n",
    "        K = np.zeros((n_samples, n_samples))\n",
    "        for i in range(n_samples):\n",
    "            for j in range(n_samples):\n",
    "                K[i,j] = np.dot(X[i], X[j])\n",
    "        P = cvxopt.matrix(np.outer(y, y) * K)\n",
    "# q = -1 (1xN)\n",
    "        q = cvxopt.matrix(np.ones(n_samples) * -1)\n",
    "# A = y^T \n",
    "        A = cvxopt.matrix(y, (1, n_samples))\n",
    "# b = 0 \n",
    "        b = cvxopt.matrix(0.0)\n",
    "# -1 (NxN)\n",
    "        G = cvxopt.matrix(np.diag(np.ones(n_samples) * -1))\n",
    "# 0 (1xN)\n",
    "        h = cvxopt.matrix(np.zeros(n_samples))\n",
    "        solution = cvxopt.solvers.qp(P, q, G, h, A, b)\n",
    "# Lagrange multipliers\n",
    "        a = np.ravel(solution['x'])\n",
    "# Lagrange have non zero lagrange multipliers\n",
    "        sv = a > 1e-5\n",
    "        ind = np.arange(len(a))[sv]\n",
    "        self.a = a[sv]\n",
    "        self.sv = X[sv]\n",
    "        self.sv_y = y[sv]\n",
    "# Intercept\n",
    "        self.b = 0\n",
    "        for n in range(len(self.a)):\n",
    "            self.b += self.sv_y[n]\n",
    "            self.b -= np.sum(self.a * self.sv_y * K[ind[n], sv])\n",
    "        self.b /= len(self.a)\n",
    "# Weights\n",
    "        self.w = np.zeros(n_features)\n",
    "        for n in range(len(self.a)):\n",
    "            self.w += self.a[n] * self.sv_y[n] * self.sv[n]\n",
    "            \n",
    "    def project(self, X):\n",
    "        return np.dot(X, self.w) + self.b\n",
    "    \n",
    "    def predict(self, X):\n",
    "        return np.sign(self.project(X))"
   ]
  },
  {
   "cell_type": "markdown",
   "metadata": {},
   "source": [
    "### 3. Load the data"
   ]
  },
  {
   "cell_type": "code",
   "execution_count": 3,
   "metadata": {},
   "outputs": [],
   "source": [
    "X, y = make_blobs(n_samples=250, centers=2,\n",
    "                  random_state=0, cluster_std=0.60)\n",
    "y[y == 0] = -1\n",
    "tmp = np.ones(len(X))\n",
    "y = tmp * y"
   ]
  },
  {
   "cell_type": "markdown",
   "metadata": {},
   "source": [
    "### 4. Visualize the data"
   ]
  },
  {
   "cell_type": "code",
   "execution_count": 4,
   "metadata": {},
   "outputs": [
    {
     "data": {
      "text/plain": [
       "<matplotlib.collections.PathCollection at 0x230dc3e5f08>"
      ]
     },
     "execution_count": 4,
     "metadata": {},
     "output_type": "execute_result"
    },
    {
     "data": {
      "image/png": "[encoded data removed]",
      "text/plain": [
       "<Figure size 432x288 with 1 Axes>"
      ]
     },
     "metadata": {
      "needs_background": "light"
     },
     "output_type": "display_data"
    }
   ],
   "source": [
    "plt.scatter(X[:, 0], X[:, 1], c=y, cmap='winter')"
   ]
  },
  {
   "cell_type": "markdown",
   "metadata": {},
   "source": [
    "### 5. Train Test Split"
   ]
  },
  {
   "cell_type": "code",
   "execution_count": 5,
   "metadata": {},
   "outputs": [],
   "source": [
    "X_train, X_test, y_train, y_test = train_test_split(X, y, random_state=0)"
   ]
  },
  {
   "cell_type": "markdown",
   "metadata": {},
   "source": [
    "### 6. Training the model"
   ]
  },
  {
   "cell_type": "code",
   "execution_count": 6,
   "metadata": {},
   "outputs": [
    {
     "name": "stdout",
     "output_type": "stream",
     "text": [
      "     pcost       dcost       gap    pres   dres\n",
      " 0: -1.8226e+01 -3.4458e+01  6e+02  2e+01  2e+00\n",
      " 1: -2.5252e+01 -1.8773e+01  2e+02  9e+00  7e-01\n",
      " 2: -5.3459e+01 -3.2711e+01  2e+02  7e+00  6e-01\n",
      " 3: -7.8360e+01 -2.6482e+01  1e+02  4e+00  3e-01\n",
      " 4: -5.6818e+00 -5.1750e+00  1e+01  2e-01  1e-02\n",
      " 5: -3.6906e+00 -4.1082e+00  4e-01  1e-15  6e-15\n",
      " 6: -4.0061e+00 -4.0104e+00  4e-03  1e-15  5e-15\n",
      " 7: -4.0094e+00 -4.0094e+00  4e-05  1e-15  5e-15\n",
      " 8: -4.0094e+00 -4.0094e+00  4e-07  1e-15  7e-15\n",
      "Optimal solution found.\n"
     ]
    }
   ],
   "source": [
    "svm = SVM()\n",
    "svm.fit(X_train, y_train)"
   ]
  },
  {
   "cell_type": "markdown",
   "metadata": {},
   "source": [
    "### 7. Visualize the result"
   ]
  },
  {
   "cell_type": "code",
   "execution_count": 7,
   "metadata": {},
   "outputs": [
    {
     "data": {
      "text/plain": [
       "[<matplotlib.lines.Line2D at 0x230dfa69d08>]"
      ]
     },
     "execution_count": 7,
     "metadata": {},
     "output_type": "execute_result"
    },
    {
     "data": {
      "image/png": "[encoded data removed]",
      "text/plain": [
       "<Figure size 432x288 with 1 Axes>"
      ]
     },
     "metadata": {
      "needs_background": "light"
     },
     "output_type": "display_data"
    }
   ],
   "source": [
    "def f(x, w, b, c=0):\n",
    "    return (-w[0] * x - b + c) / w[1]\n",
    "plt.scatter(X_train[:, 0], X_train[:, 1], c=y_train, cmap='winter')\n",
    "# w.x + b = 0\n",
    "a0 = -4; a1 = f(a0, svm.w, svm.b)\n",
    "b0 = 4; b1 = f(b0, svm.w, svm.b)\n",
    "plt.plot([a0,b0], [a1,b1], 'k')\n",
    "# w.x + b = 1\n",
    "a0 = -4; a1 = f(a0, svm.w, svm.b, 1)\n",
    "b0 = 4; b1 = f(b0, svm.w, svm.b, 1)\n",
    "plt.plot([a0,b0], [a1,b1], 'k--')\n",
    "# w.x + b = -1\n",
    "a0 = -4; a1 = f(a0, svm.w, svm.b, -1)\n",
    "b0 = 4; b1 = f(b0, svm.w, svm.b, -1)\n",
    "plt.plot([a0,b0], [a1,b1], 'k--')"
   ]
  },
  {
   "cell_type": "markdown",
   "metadata": {},
   "source": [
    "### 8. Prediction"
   ]
  },
  {
   "cell_type": "code",
   "execution_count": 8,
   "metadata": {},
   "outputs": [
    {
     "data": {
      "text/plain": [
       "array([[29,  0],\n",
       "       [ 0, 34]], dtype=int64)"
      ]
     },
     "execution_count": 8,
     "metadata": {},
     "output_type": "execute_result"
    }
   ],
   "source": [
    "y_pred = svm.predict(X_test)\n",
    "confusion_matrix(y_test, y_pred)"
   ]
  },
  {
   "cell_type": "markdown",
   "metadata": {},
   "source": [
    "### 9. Using built-in SVM"
   ]
  },
  {
   "cell_type": "code",
   "execution_count": 9,
   "metadata": {},
   "outputs": [
    {
     "data": {
      "text/plain": [
       "LinearSVC(C=1.0, class_weight=None, dual=True, fit_intercept=True,\n",
       "          intercept_scaling=1, loss='squared_hinge', max_iter=1000,\n",
       "          multi_class='ovr', penalty='l2', random_state=None, tol=0.0001,\n",
       "          verbose=0)"
      ]
     },
     "execution_count": 9,
     "metadata": {},
     "output_type": "execute_result"
    }
   ],
   "source": [
    "svc = LinearSVC()\n",
    "svc.fit(X_train, y_train)"
   ]
  },
  {
   "cell_type": "code",
   "execution_count": 10,
   "metadata": {},
   "outputs": [
    {
     "data": {
      "text/plain": [
       "[<matplotlib.lines.Line2D at 0x230dfaf6a08>]"
      ]
     },
     "execution_count": 10,
     "metadata": {},
     "output_type": "execute_result"
    },
    {
     "data": {
      "image/png": "[encoded data removed]",
      "text/plain": [
       "<Figure size 432x288 with 1 Axes>"
      ]
     },
     "metadata": {
      "needs_background": "light"
     },
     "output_type": "display_data"
    }
   ],
   "source": [
    "plt.scatter(X_train[:, 0], X_train[:, 1], c=y_train, cmap='winter');\n",
    "ax = plt.gca()\n",
    "xlim = ax.get_xlim()\n",
    "w = svc.coef_[0]\n",
    "a = -w[0] / w[1]\n",
    "xx = np.linspace(xlim[0], xlim[1])\n",
    "yy = a * xx - svc.intercept_[0] / w[1]\n",
    "plt.plot(xx, yy)\n",
    "yy = a * xx - (svc.intercept_[0] - 1) / w[1]\n",
    "plt.plot(xx, yy, 'k--')\n",
    "yy = a * xx - (svc.intercept_[0] + 1) / w[1]\n",
    "plt.plot(xx, yy, 'k--')"
   ]
  },
  {
   "cell_type": "code",
   "execution_count": 11,
   "metadata": {},
   "outputs": [
    {
     "data": {
      "text/plain": [
       "array([[29,  0],\n",
       "       [ 0, 34]], dtype=int64)"
      ]
     },
     "execution_count": 11,
     "metadata": {},
     "output_type": "execute_result"
    }
   ],
   "source": [
    "y_pred = svc.predict(X_test)\n",
    "confusion_matrix(y_test, y_pred)"
   ]
  },
  {
   "cell_type": "markdown",
   "metadata": {},
   "source": [
    "### 10. Custom SVM vs built-in SVM\n",
    "\n",
    "Both of the model correctly classified every sample and their confusion matrix are same."
   ]
  },
  {
   "cell_type": "markdown",
   "metadata": {},
   "source": [
    "## Questions"
   ]
  },
  {
   "cell_type": "markdown",
   "metadata": {},
   "source": [
    "**1. Explain in short how SVM classifier works.**"
   ]
  },
  {
   "cell_type": "markdown",
   "metadata": {},
   "source": [
    "Ans:- The linear SVM classifier works by drawing a straight line between two classes. All the data points that fall on one side of the line will be labeled as one class and all the points that fall on the other side will be labeled as the second."
   ]
  },
  {
   "cell_type": "code",
   "execution_count": 12,
   "metadata": {},
   "outputs": [
    {
     "data": {
      "image/png": "[encoded data removed]",
      "text/plain": [
       "<IPython.core.display.Image object>"
      ]
     },
     "execution_count": 12,
     "metadata": {},
     "output_type": "execute_result"
    }
   ],
   "source": [
    "Image(filename=\"img/svm.png\")"
   ]
  },
  {
   "cell_type": "markdown",
   "metadata": {},
   "source": [
    "**2. With reference to support vector machines, elaborate the following terms with suitable diagrams <br/>\n",
    "a) Hyperplane \n",
    "b) Support Vector \n",
    "c) Margin.**"
   ]
  },
  {
   "cell_type": "markdown",
   "metadata": {},
   "source": [
    "Ans:- \n",
    "a) **Hyperplanes** are decision boundaries that help classify the data points. Data points falling on either side of the hyperplane can be attributed to different classes. In simple term, it is the ability of your machine learning model to correctly differentiate/separate/classify between different groups of data\n",
    "\n",
    "b) **Support vectors** are data points that are closer to the hyperplane and influence the position and orientation of the hyperplane. Using these support vectors, we maximize the margin of the classifier. Deleting the support vectors will change the position of the hyperplane. These are the points that help us build our SVM\n",
    "\n",
    "c) **Margin** is the distance of closest example from the decision line/hyperplane"
   ]
  },
  {
   "cell_type": "markdown",
   "metadata": {},
   "source": [
    "**3. Explain application and limitation of Support Vector Machine.**"
   ]
  },
  {
   "cell_type": "markdown",
   "metadata": {},
   "source": [
    "Ans:-\n",
    "**Application**\n",
    "+ **Face detection** – SVMc classify parts of the image as a face and non-face and create a square boundary around the face.\n",
    "\n",
    "+ **Text and hypertext categorization** – SVMs allow Text and hypertext categorization for both inductive and transductive models. They use training data to classify documents into different categories. It categorizes on the basis of the score generated and then compares with the threshold value.\n",
    "\n",
    "+ **Classification of images** – Use of SVMs provides better search accuracy for image classification. It provides better accuracy in comparison to the traditional query-based searching techniques.\n",
    "\n",
    "+ **Bioinformatics** – It includes protein classification and cancer classification. We use SVM for identifying the classification of genes, patients on the basis of genes and other biological problems.\n",
    "\n",
    "+ **Protein fold and remote homology detection** – Apply SVM algorithms for protein remote homology detection.\n",
    "\n",
    "+ **Handwriting recognition** – We use SVMs to recognize handwritten characters used widely.\n",
    "\n",
    "+ **Generalized predictive control(GPC)** – Use SVM based GPC to control chaotic dynamics with useful parameters.\n",
    "\n",
    "**Limitation**\n",
    "+ It doesn’t perform well when we have large data set because the required training time is higher\n",
    "+ It also doesn’t perform very well, when the data set has more noise i.e. target classes are overlapping\n",
    "+ SVM doesn’t directly provide probability estimates, these are calculated using an expensive five-fold cross-validation. It is included in the related SVC method of Python scikit-learn library."
   ]
  },
  {
   "cell_type": "markdown",
   "metadata": {},
   "source": [
    "**4. Explain key properties of SVM.**"
   ]
  },
  {
   "cell_type": "markdown",
   "metadata": {},
   "source": [
    "Ans:- \n",
    "\n",
    "+ Flexibility in choosing a similarity function\n",
    "+ Sparseness of solution when dealing with large data sets\n",
    "+ Ability to handle large feature spaces\n",
    "+ Overfitting can be controlled by soft margin approach\n",
    "+ Nice math property: a simple convex optimization problem which is guaranteed to converge to a single global solution\n",
    "+ Feature Selection"
   ]
  },
  {
   "cell_type": "markdown",
   "metadata": {},
   "source": [
    "**5. How SVM classifier can be used for regression?**"
   ]
  },
  {
   "cell_type": "markdown",
   "metadata": {},
   "source": [
    "Ans:- Support Vector Machine can also be used as a regression method, maintaining all the main features that characterize the algorithm (maximal margin). The Support Vector Regression (SVR) uses the same principles as the SVM for classification, with only a few minor differences. \n",
    "\n",
    "First of all, because output is a real number it becomes very difficult to predict the information at hand, which has infinite possibilities. In the case of regression, a margin of tolerance (epsilon) is set in approximation to the SVM which would have already requested from the problem. \n",
    "\n",
    "But besides this fact, there is also a more complicated reason, the algorithm is more complicated therefore to be taken in consideration. However, the main idea is always the same: to minimize error, individualizing the hyperplane which maximizes the margin, keeping in mind that part of the error is tolerated. \t\t"
   ]
  },
  {
   "cell_type": "markdown",
   "metadata": {},
   "source": [
    "### References\n",
    "\n",
    "[1] https://towardsdatascience.com/support-vector-machine-python-example-d67d9b63f1c8\n",
    "\n",
    "[2] https://github.com/adityajn105/SVM-From-Scratch\n",
    "\n",
    "[3] https://pythonprogramming.net/machine-learning-tutorial-python-introduction/#google_vignette\n",
    "\n",
    "[4] https://www.analyticsvidhya.com/blog/2017/09/understaing-support-vector-machine-example-code/\n",
    "\n",
    "[5] https://towardsdatascience.com/svm-implementation-from-scratch-python-2db2fc52e5c2\n",
    "\n",
    "[6] https://medium.com/deep-math-machine-learning-ai/chapter-3-1-svm-from-scratch-in-python-86f93f853dc\n"
   ]
  },
  {
   "cell_type": "markdown",
   "metadata": {},
   "source": []
  },
  {
   "cell_type": "markdown",
   "metadata": {},
   "source": [
    "Author Name:- Hemant Ghuge <br/>\n",
    "LinkedIn:- https://www.linkedin.com/in/hemantghuge/ <br/>\n",
    "GitHub:- https://github.com/HemantGorakshGhuge <br/>"
   ]
  },
  {
   "cell_type": "markdown",
   "metadata": {},
   "source": []
  },
  {
   "cell_type": "markdown",
   "metadata": {},
   "source": []
  },
  {
   "cell_type": "markdown",
   "metadata": {},
   "source": []
  },
  {
   "cell_type": "markdown",
   "metadata": {},
   "source": []
  },
  {
   "cell_type": "markdown",
   "metadata": {},
   "source": []
  },
  {
   "cell_type": "markdown",
   "metadata": {},
   "source": []
  },
  {
   "cell_type": "markdown",
   "metadata": {},
   "source": []
  },
  {
   "cell_type": "markdown",
   "metadata": {},
   "source": []
  }
 ],
 "metadata": {
  "kernelspec": {
   "display_name": "Python 3",
   "language": "python",
   "name": "python3"
  },
  "language_info": {
   "codemirror_mode": {
    "name": "ipython",
    "version": 3
   },
   "file_extension": ".py",
   "mimetype": "text/x-python",
   "name": "python",
   "nbconvert_exporter": "python",
   "pygments_lexer": "ipython3",
   "version": "3.7.7"
  }
 },
 "nbformat": 4,
 "nbformat_minor": 4
}
